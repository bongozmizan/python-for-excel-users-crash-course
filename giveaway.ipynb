    "The following code will pick a name at random from registration. The winner receives a copy of the book."
